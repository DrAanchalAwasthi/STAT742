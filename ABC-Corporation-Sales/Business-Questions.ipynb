{
 "cells": [
  {
   "cell_type": "markdown",
   "metadata": {},
   "source": [
    "### *Run below mentioned Commands in a code cell if these packages are not available in your environment*\n",
    "* ! pip install pandas\n",
    "* ! pip install matplotlib\n",
    "* ! pip install os\n",
    "* ! pip install datetime"
   ]
  },
  {
   "cell_type": "markdown",
   "metadata": {},
   "source": [
    "### *Loading Libraries*"
   ]
  },
  {
   "cell_type": "code",
   "execution_count": 2,
   "metadata": {},
   "outputs": [],
   "source": [
    "import pandas as pd\n",
    "import os\n",
    "import datetime"
   ]
  },
  {
   "cell_type": "markdown",
   "metadata": {},
   "source": [
    "#### Import Sales Data"
   ]
  },
  {
   "cell_type": "code",
   "execution_count": 3,
   "metadata": {},
   "outputs": [
    {
     "data": {
      "text/plain": [
       "['Customer-Base', 'Sales-Data']"
      ]
     },
     "execution_count": 3,
     "metadata": {},
     "output_type": "execute_result"
    }
   ],
   "source": [
    "xlsx = pd.ExcelFile('Sales-Data.xlsx')\n",
    "sheet_names = xlsx.sheet_names\n",
    "sheet_names"
   ]
  },
  {
   "cell_type": "code",
   "execution_count": 4,
   "metadata": {},
   "outputs": [
    {
     "data": {
      "text/html": [
       "<div>\n",
       "<style scoped>\n",
       "    .dataframe tbody tr th:only-of-type {\n",
       "        vertical-align: middle;\n",
       "    }\n",
       "\n",
       "    .dataframe tbody tr th {\n",
       "        vertical-align: top;\n",
       "    }\n",
       "\n",
       "    .dataframe thead th {\n",
       "        text-align: right;\n",
       "    }\n",
       "</style>\n",
       "<table border=\"1\" class=\"dataframe\">\n",
       "  <thead>\n",
       "    <tr style=\"text-align: right;\">\n",
       "      <th></th>\n",
       "      <th>InvoiceDate</th>\n",
       "      <th>InvoiceID</th>\n",
       "      <th>CustomerID</th>\n",
       "      <th>InvoiceValue</th>\n",
       "    </tr>\n",
       "  </thead>\n",
       "  <tbody>\n",
       "    <tr>\n",
       "      <th>0</th>\n",
       "      <td>2022-01-01</td>\n",
       "      <td>DYSMJ47747</td>\n",
       "      <td>WNYQN5037</td>\n",
       "      <td>85</td>\n",
       "    </tr>\n",
       "    <tr>\n",
       "      <th>1</th>\n",
       "      <td>2022-01-01</td>\n",
       "      <td>JDOBV42881</td>\n",
       "      <td>GJMJI5215</td>\n",
       "      <td>87</td>\n",
       "    </tr>\n",
       "    <tr>\n",
       "      <th>2</th>\n",
       "      <td>2022-01-01</td>\n",
       "      <td>IWATI93376</td>\n",
       "      <td>AWXSL7355</td>\n",
       "      <td>76</td>\n",
       "    </tr>\n",
       "    <tr>\n",
       "      <th>3</th>\n",
       "      <td>2022-01-01</td>\n",
       "      <td>BYIGR33509</td>\n",
       "      <td>TTPXB4921</td>\n",
       "      <td>56</td>\n",
       "    </tr>\n",
       "    <tr>\n",
       "      <th>4</th>\n",
       "      <td>2022-01-01</td>\n",
       "      <td>KEQKA35598</td>\n",
       "      <td>WQYYR7437</td>\n",
       "      <td>84</td>\n",
       "    </tr>\n",
       "  </tbody>\n",
       "</table>\n",
       "</div>"
      ],
      "text/plain": [
       "  InvoiceDate   InvoiceID CustomerID  InvoiceValue\n",
       "0  2022-01-01  DYSMJ47747  WNYQN5037            85\n",
       "1  2022-01-01  JDOBV42881  GJMJI5215            87\n",
       "2  2022-01-01  IWATI93376  AWXSL7355            76\n",
       "3  2022-01-01  BYIGR33509  TTPXB4921            56\n",
       "4  2022-01-01  KEQKA35598  WQYYR7437            84"
      ]
     },
     "execution_count": 4,
     "metadata": {},
     "output_type": "execute_result"
    }
   ],
   "source": [
    "sales_data = pd.read_excel('Sales-Data.xlsx', sheet_name= 'Sales-Data')\n",
    "sales_data.head()"
   ]
  },
  {
   "cell_type": "markdown",
   "metadata": {},
   "source": [
    "### Business Questions\n",
    "* Which day of the year company made maximum revenue?\n",
    "* What is mean sale per day?\n",
    "* Organization want to implement a new HR policy in which Zone Manager (Zip is considered as Zone) can grant leaves to employee when business inflow is a bit low. What are those days in different months?\n",
    "* What is Median invoice genration rate per month?\n",
    "* what is average invoice value in 2022? What is trend over month-on-month?\n",
    "* which pincode has generated maximum revenue in June-2023? Do the same pincode have best revenue/invoice?\n",
    "* There was a print media campaign rolled-out during 23-May-2023 to 31-May-2023. did this made any impact on sale? Consider sale of April and June 2023 for analysis.\n",
    "* There was a Electronic media campaign rolled-out during 20-Feb-2023 to 28-Feb-2023. did this made any impact on sale? Consider sale of January and March-April 2023 for analysis.\n",
    "* There was a Social media campaign rolled-out during 01-Jul-2023 to 31-Jul-2023. did this made any impact on sale? Consider sale of April and June 2023 for analysis.\n",
    "* Which campaign made the best and least impact on Sale?"
   ]
  },
  {
   "cell_type": "markdown",
   "metadata": {},
   "source": [
    "### Import customer base"
   ]
  },
  {
   "cell_type": "code",
   "execution_count": 5,
   "metadata": {},
   "outputs": [
    {
     "data": {
      "text/html": [
       "<div>\n",
       "<style scoped>\n",
       "    .dataframe tbody tr th:only-of-type {\n",
       "        vertical-align: middle;\n",
       "    }\n",
       "\n",
       "    .dataframe tbody tr th {\n",
       "        vertical-align: top;\n",
       "    }\n",
       "\n",
       "    .dataframe thead th {\n",
       "        text-align: right;\n",
       "    }\n",
       "</style>\n",
       "<table border=\"1\" class=\"dataframe\">\n",
       "  <thead>\n",
       "    <tr style=\"text-align: right;\">\n",
       "      <th></th>\n",
       "      <th>ID</th>\n",
       "      <th>CID</th>\n",
       "      <th>Gender</th>\n",
       "      <th>Age</th>\n",
       "      <th>PinCode</th>\n",
       "    </tr>\n",
       "  </thead>\n",
       "  <tbody>\n",
       "    <tr>\n",
       "      <th>0</th>\n",
       "      <td>1</td>\n",
       "      <td>NCHFA9510</td>\n",
       "      <td>M</td>\n",
       "      <td>31</td>\n",
       "      <td>201303</td>\n",
       "    </tr>\n",
       "    <tr>\n",
       "      <th>1</th>\n",
       "      <td>2</td>\n",
       "      <td>BUUVH1506</td>\n",
       "      <td>M</td>\n",
       "      <td>33</td>\n",
       "      <td>201301</td>\n",
       "    </tr>\n",
       "    <tr>\n",
       "      <th>2</th>\n",
       "      <td>3</td>\n",
       "      <td>DYWQP6900</td>\n",
       "      <td>F</td>\n",
       "      <td>34</td>\n",
       "      <td>201302</td>\n",
       "    </tr>\n",
       "    <tr>\n",
       "      <th>3</th>\n",
       "      <td>4</td>\n",
       "      <td>DFQSR6753</td>\n",
       "      <td>M</td>\n",
       "      <td>41</td>\n",
       "      <td>201303</td>\n",
       "    </tr>\n",
       "    <tr>\n",
       "      <th>4</th>\n",
       "      <td>5</td>\n",
       "      <td>LZIEQ1426</td>\n",
       "      <td>M</td>\n",
       "      <td>38</td>\n",
       "      <td>201301</td>\n",
       "    </tr>\n",
       "  </tbody>\n",
       "</table>\n",
       "</div>"
      ],
      "text/plain": [
       "   ID        CID Gender  Age  PinCode\n",
       "0   1  NCHFA9510      M   31   201303\n",
       "1   2  BUUVH1506      M   33   201301\n",
       "2   3  DYWQP6900      F   34   201302\n",
       "3   4  DFQSR6753      M   41   201303\n",
       "4   5  LZIEQ1426      M   38   201301"
      ]
     },
     "execution_count": 5,
     "metadata": {},
     "output_type": "execute_result"
    }
   ],
   "source": [
    "customer_data = pd.read_excel('Sales-Data.xlsx', sheet_name= 'Customer-Base')\n",
    "customer_data.head()"
   ]
  },
  {
   "cell_type": "markdown",
   "metadata": {},
   "source": [
    "### *Customer-Base Questions*\n",
    "* Which pincode have maximum number of customers?\n",
    "* Which pincode have maximum/minimum number of Male and female customers?\n",
    "* What is average age of female population in pincode with maximum male customers?\n",
    "* do male and female have equal average age?\n",
    "* which pincode have minimum/maximum average difference of age?"
   ]
  },
  {
   "cell_type": "markdown",
   "metadata": {},
   "source": [
    "### *Running a merge? Wait! Lets Validate few points*\n",
    "\n",
    "Merging data in pandas is a common operation when working with structured data in Python. Before and after performing a merge, there are several important points to consider to ensure a successful and meaningful operation. Here's a checklist of things to remember:\n",
    "\n",
    "Before Merging:\n",
    "\n",
    "1. **Understand Your Data**: Have a clear understanding of the datasets you're merging. Know the structure, column names, and data types of both DataFrames.\n",
    "\n",
    "2. **Choose the Right Merge Type**: Decide which type of merge operation is appropriate for your data: inner, outer, left, or right. The choice depends on your analysis goals and the data itself.\n",
    "\n",
    "3. **Check for Duplicates**: Ensure that there are no duplicate values in the key columns (columns used for merging) in both DataFrames. Duplicates can lead to unexpected results.\n",
    "\n",
    "4. **Handle Missing Values**: Be prepared to handle missing values (NaN or None) in the key columns or other columns you intend to use in your analysis. Decide whether to drop, fill, or leave them as-is.\n",
    "\n",
    "5. **Sort the DataFrames**: Although not always necessary, sorting the DataFrames can improve merge performance, especially for large datasets. You can use the `sort_values` method.\n",
    "\n",
    "6. **Check Column Names**: Verify that the column names you intend to merge on have the same name in both DataFrames. If not, use the `left_on` and `right_on` parameters to specify different column names for merging.\n",
    "\n",
    "After Merging:\n",
    "\n",
    "1. **Inspect the Result**: Always inspect the resulting DataFrame to ensure that the merge operation produced the expected output. Print the merged DataFrame or use functions like `head()` to view the first few rows.\n",
    "\n",
    "2. **Check for Null Values**: Examine the merged DataFrame for any unexpected null values. Make sure that the merge operation didn't introduce new missing data.\n",
    "\n",
    "3. **Check for Duplicates**: Verify that the merge operation didn't create duplicate rows in the merged DataFrame. This can happen if the key columns were not unique in one or both of the original DataFrames.\n",
    "\n",
    "4. **Perform Further Data Cleaning and Analysis**: Depending on your analysis goals, you may need to perform additional data cleaning or transformation steps on the merged data.\n",
    "\n",
    "5. **Save the Result**: If the merged DataFrame is a critical part of your analysis, consider saving it to a file (e.g., CSV, Excel, or a database) to ensure you can easily access it later.\n",
    "\n",
    "6. **Keep the Original Data**: Keep the original DataFrames intact. Merging creates a new DataFrame, and you might need the original data for other analyses or comparisons.\n",
    "\n",
    "7. **Document Your Process**: Document the merge operation and any data cleaning or transformation steps you applied. Good documentation helps others understand and replicate your analysis.\n",
    "\n",
    "By following these guidelines, you can perform merges in pandas more effectively and avoid common pitfalls that may arise during the process."
   ]
  },
  {
   "cell_type": "code",
   "execution_count": 5,
   "metadata": {},
   "outputs": [
    {
     "data": {
      "text/html": [
       "<div>\n",
       "<style scoped>\n",
       "    .dataframe tbody tr th:only-of-type {\n",
       "        vertical-align: middle;\n",
       "    }\n",
       "\n",
       "    .dataframe tbody tr th {\n",
       "        vertical-align: top;\n",
       "    }\n",
       "\n",
       "    .dataframe thead th {\n",
       "        text-align: right;\n",
       "    }\n",
       "</style>\n",
       "<table border=\"1\" class=\"dataframe\">\n",
       "  <thead>\n",
       "    <tr style=\"text-align: right;\">\n",
       "      <th></th>\n",
       "      <th>InvoiceDate</th>\n",
       "      <th>InvoiceID</th>\n",
       "      <th>CustomerID</th>\n",
       "      <th>InvoiceValue</th>\n",
       "      <th>Month</th>\n",
       "      <th>ID</th>\n",
       "      <th>CID</th>\n",
       "      <th>Gender</th>\n",
       "      <th>Age</th>\n",
       "      <th>PinCode</th>\n",
       "    </tr>\n",
       "  </thead>\n",
       "  <tbody>\n",
       "    <tr>\n",
       "      <th>0</th>\n",
       "      <td>2022-01-01</td>\n",
       "      <td>DYSMJ47747</td>\n",
       "      <td>WNYQN5037</td>\n",
       "      <td>85</td>\n",
       "      <td>2022-01</td>\n",
       "      <td>20</td>\n",
       "      <td>WNYQN5037</td>\n",
       "      <td>M</td>\n",
       "      <td>26</td>\n",
       "      <td>201303</td>\n",
       "    </tr>\n",
       "    <tr>\n",
       "      <th>1</th>\n",
       "      <td>2022-01-01</td>\n",
       "      <td>JDOBV42881</td>\n",
       "      <td>GJMJI5215</td>\n",
       "      <td>87</td>\n",
       "      <td>2022-01</td>\n",
       "      <td>96</td>\n",
       "      <td>GJMJI5215</td>\n",
       "      <td>M</td>\n",
       "      <td>50</td>\n",
       "      <td>201305</td>\n",
       "    </tr>\n",
       "    <tr>\n",
       "      <th>2</th>\n",
       "      <td>2022-01-01</td>\n",
       "      <td>IWATI93376</td>\n",
       "      <td>AWXSL7355</td>\n",
       "      <td>76</td>\n",
       "      <td>2022-01</td>\n",
       "      <td>25</td>\n",
       "      <td>AWXSL7355</td>\n",
       "      <td>M</td>\n",
       "      <td>41</td>\n",
       "      <td>201305</td>\n",
       "    </tr>\n",
       "    <tr>\n",
       "      <th>3</th>\n",
       "      <td>2022-01-01</td>\n",
       "      <td>BYIGR33509</td>\n",
       "      <td>TTPXB4921</td>\n",
       "      <td>56</td>\n",
       "      <td>2022-01</td>\n",
       "      <td>19</td>\n",
       "      <td>TTPXB4921</td>\n",
       "      <td>F</td>\n",
       "      <td>26</td>\n",
       "      <td>201301</td>\n",
       "    </tr>\n",
       "    <tr>\n",
       "      <th>4</th>\n",
       "      <td>2022-01-01</td>\n",
       "      <td>KEQKA35598</td>\n",
       "      <td>WQYYR7437</td>\n",
       "      <td>84</td>\n",
       "      <td>2022-01</td>\n",
       "      <td>55</td>\n",
       "      <td>WQYYR7437</td>\n",
       "      <td>M</td>\n",
       "      <td>42</td>\n",
       "      <td>201302</td>\n",
       "    </tr>\n",
       "  </tbody>\n",
       "</table>\n",
       "</div>"
      ],
      "text/plain": [
       "  InvoiceDate   InvoiceID CustomerID  InvoiceValue    Month  ID        CID  \\\n",
       "0  2022-01-01  DYSMJ47747  WNYQN5037            85  2022-01  20  WNYQN5037   \n",
       "1  2022-01-01  JDOBV42881  GJMJI5215            87  2022-01  96  GJMJI5215   \n",
       "2  2022-01-01  IWATI93376  AWXSL7355            76  2022-01  25  AWXSL7355   \n",
       "3  2022-01-01  BYIGR33509  TTPXB4921            56  2022-01  19  TTPXB4921   \n",
       "4  2022-01-01  KEQKA35598  WQYYR7437            84  2022-01  55  WQYYR7437   \n",
       "\n",
       "  Gender  Age  PinCode  \n",
       "0      M   26   201303  \n",
       "1      M   50   201305  \n",
       "2      M   41   201305  \n",
       "3      F   26   201301  \n",
       "4      M   42   201302  "
      ]
     },
     "execution_count": 5,
     "metadata": {},
     "output_type": "execute_result"
    }
   ],
   "source": [
    "salesmaster = sales_data.merge(customer_data, how='left', left_on='CustomerID', right_on='CID')\n",
    "salesmaster.head()"
   ]
  },
  {
   "cell_type": "markdown",
   "metadata": {},
   "source": [
    "### *Quetions*\n",
    "* Do we have different patterns in buying behaviour between different customer gender?\n",
    "* Which Pincode have least variation in the sale?\n",
    "* Which are top 10 revenue generating customers per month?\n",
    "* Which are top 5 customers which are generating maximum revenue pincodes?\n",
    "* Consider five year age window as age group, is there any difference in sales? consider gender as two different populations."
   ]
  },
  {
   "cell_type": "markdown",
   "metadata": {},
   "source": [
    "### Questions\n",
    "* Do we have relationship between age and sales (Analyze data at monthly and year level)? is there any difference? Share your observation.\n",
    "* Build a solution to predict sales in Q4-2022 based on Q1-Q3 2022."
   ]
  }
 ],
 "metadata": {
  "kernelspec": {
   "display_name": "Python 3",
   "language": "python",
   "name": "python3"
  },
  "language_info": {
   "codemirror_mode": {
    "name": "ipython",
    "version": 3
   },
   "file_extension": ".py",
   "mimetype": "text/x-python",
   "name": "python",
   "nbconvert_exporter": "python",
   "pygments_lexer": "ipython3",
   "version": "3.11.4"
  },
  "orig_nbformat": 4
 },
 "nbformat": 4,
 "nbformat_minor": 2
}
