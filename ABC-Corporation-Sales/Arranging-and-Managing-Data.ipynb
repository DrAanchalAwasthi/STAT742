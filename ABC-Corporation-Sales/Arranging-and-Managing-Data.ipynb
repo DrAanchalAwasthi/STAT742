{
 "cells": [
  {
   "cell_type": "markdown",
   "metadata": {},
   "source": [
    "### *Run below mentioned Commands in a code cell if these packages are not available in your environment*\n",
    "* ! pip install pandas\n",
    "* ! pip install matplotlib\n",
    "* ! pip install os\n",
    "* ! pip install datetime"
   ]
  },
  {
   "cell_type": "markdown",
   "metadata": {},
   "source": [
    "### *Loading Libraries*"
   ]
  },
  {
   "cell_type": "code",
   "execution_count": null,
   "metadata": {},
   "outputs": [],
   "source": [
    "import pandas as pd\n",
    "import os\n",
    "import datetime"
   ]
  },
  {
   "cell_type": "markdown",
   "metadata": {},
   "source": [
    "#### Import Sales Data"
   ]
  },
  {
   "cell_type": "code",
   "execution_count": null,
   "metadata": {},
   "outputs": [],
   "source": [
    "xlsx = pd.ExcelFile('Sales-Data.xlsx')\n",
    "sheet_names = xlsx.sheet_names\n",
    "sheet_names"
   ]
  },
  {
   "cell_type": "code",
   "execution_count": null,
   "metadata": {},
   "outputs": [],
   "source": [
    "sales_data = pd.read_excel('Sales-Data.xlsx', sheet_name= 'Sales-Data')\n",
    "sales_data['Month'] = sales_data.InvoiceDate.apply(lambda x : x.strftime('%b'))\n",
    "sales_data.head()"
   ]
  },
  {
   "cell_type": "markdown",
   "metadata": {},
   "source": [
    "### *Sorting a dataframe*"
   ]
  },
  {
   "cell_type": "code",
   "execution_count": null,
   "metadata": {},
   "outputs": [],
   "source": [
    "### Sorting on Single Variable - Acascending order\n",
    "sales_data.sort_values(by = 'InvoiceDate', inplace = True)\n",
    "sorted_sales_data = sales_data.sort_values(by = 'InvoiceDate')"
   ]
  },
  {
   "cell_type": "code",
   "execution_count": null,
   "metadata": {},
   "outputs": [],
   "source": [
    "### Sorting on Single Variable - Descending order\n",
    "sales_data.sort_values(by = 'InvoiceDate', inplace = True, ascending=False)\n",
    "sales_data.head()"
   ]
  },
  {
   "cell_type": "code",
   "execution_count": null,
   "metadata": {},
   "outputs": [],
   "source": [
    "### Sorting on Multiple Variables\n",
    "sorted_df_multi = sales_data.sort_values(by=['InvoiceDate', 'InvoiceValue'], ascending=[True, False])\n",
    "sorted_df_multi.head()"
   ]
  },
  {
   "cell_type": "code",
   "execution_count": null,
   "metadata": {},
   "outputs": [],
   "source": [
    "### Sorting on Multiple Variables\n",
    "sorted_df_multi = sales_data.sort_values(by=['InvoiceDate', 'InvoiceValue'], ascending=[True, True])\n",
    "sorted_df_multi.head()"
   ]
  },
  {
   "cell_type": "markdown",
   "metadata": {},
   "source": [
    "### *Data Aggregation in Pandas*"
   ]
  },
  {
   "cell_type": "markdown",
   "metadata": {},
   "source": [
    "#### Aggregate functions used with .agg\n",
    "* https://sparkbyexamples.com/pandas/pandas-aggregate-functions-with-examples/"
   ]
  },
  {
   "cell_type": "code",
   "execution_count": null,
   "metadata": {},
   "outputs": [],
   "source": [
    "sales_data.InvoiceValue.aggregate('sum')"
   ]
  },
  {
   "cell_type": "code",
   "execution_count": null,
   "metadata": {},
   "outputs": [],
   "source": [
    "# Aggregating Numberic Values\n",
    "Aggregated_df = sales_data.InvoiceValue.agg(['sum', 'mean', 'count', 'max', 'min'])\n",
    "Aggregated_df.index.name = 'Measure'\n",
    "Aggregated_df.reset_index(name='Statistics Value')"
   ]
  },
  {
   "cell_type": "code",
   "execution_count": null,
   "metadata": {},
   "outputs": [],
   "source": [
    "# Aggregating Categorical Values\n",
    "sales_data.InvoiceDate.aggregate('count')"
   ]
  },
  {
   "cell_type": "code",
   "execution_count": null,
   "metadata": {},
   "outputs": [],
   "source": [
    "# Aggregating Categorical Values\n",
    "frq_date = sales_data.InvoiceDate.value_counts().reset_index(name = 'Number of Invoices')\n",
    "frq_date"
   ]
  },
  {
   "cell_type": "markdown",
   "metadata": {},
   "source": [
    "### Grouped Aggregation in Pandas\n",
    "* https://pandas.pydata.org/docs/reference/api/pandas.DataFrame.groupby.html"
   ]
  },
  {
   "cell_type": "code",
   "execution_count": null,
   "metadata": {},
   "outputs": [],
   "source": [
    "# One variable Group and Aggregation\n",
    "invoices_by_month = sales_data.groupby(['Month']).aggregate(Count=('InvoiceDate', len), Maximum_Invoice_Value=('InvoiceValue', max), Minimum_Invoice_Value=('InvoiceValue', min)).reset_index()\n",
    "invoices_by_month"
   ]
  },
  {
   "cell_type": "code",
   "execution_count": null,
   "metadata": {},
   "outputs": [],
   "source": [
    "# Multiple variable Group and Aggregation\n",
    "invoices_by_month = sales_data.groupby(['CustomerID', 'Month']).aggregate(Count=('InvoiceDate', len), Maximum_Invoice_Value=('InvoiceValue', max), Minimum_Invoice_Value=('InvoiceValue', min)).reset_index()\n",
    "invoices_by_month"
   ]
  },
  {
   "cell_type": "code",
   "execution_count": 52,
   "metadata": {},
   "outputs": [],
   "source": [
    "### Pivot Table in Python\n",
    "invoices_by_month = sales_data.pivot_table(index='CustomerID', \n",
    "                                            columns='Month', \n",
    "                                            values=['InvoiceDate', 'InvoiceValue'], \n",
    "                                            aggfunc={'InvoiceDate': 'count', 'InvoiceValue': 'mean'}, \n",
    "                                            fill_value=0)\n",
    "invoices_by_month"
   ]
  },
  {
   "cell_type": "code",
   "execution_count": 54,
   "metadata": {},
   "outputs": [],
   "source": [
    "### Pivot Table in Python - format specific colum\n",
    "# Create a custom aggregation function that formats and aggregates\n",
    "def custom_mean(series):\n",
    "    return f'{series.sum():.2f}'  # Format the sum to two decimal places\n",
    "\n",
    "invoices_by_month = sales_data.pivot_table(index='CustomerID', \n",
    "                                            columns='Month', \n",
    "                                            values=['InvoiceDate', 'InvoiceValue'], \n",
    "                                            aggfunc={'InvoiceDate': 'count', 'InvoiceValue': custom_mean}, \n",
    "                                            fill_value=0)\n",
    "invoices_by_month"
   ]
  }
 ],
 "metadata": {
  "kernelspec": {
   "display_name": "Python 3",
   "language": "python",
   "name": "python3"
  },
  "language_info": {
   "codemirror_mode": {
    "name": "ipython",
    "version": 3
   },
   "file_extension": ".py",
   "mimetype": "text/x-python",
   "name": "python",
   "nbconvert_exporter": "python",
   "pygments_lexer": "ipython3",
   "version": "3.11.4"
  },
  "orig_nbformat": 4
 },
 "nbformat": 4,
 "nbformat_minor": 2
}
