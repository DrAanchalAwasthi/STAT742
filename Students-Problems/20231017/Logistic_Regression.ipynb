{
  "cells": [
    {
      "cell_type": "code",
      "execution_count": null,
      "metadata": {
        "colab": {
          "base_uri": "https://localhost:8080/",
          "height": 408
        },
        "id": "0YL2QnVebYpc",
        "outputId": "f0d3293f-694b-4ba7-efa6-6d6baa91e541"
      },
      "outputs": [],
      "source": [
        "import numpy as np\n",
        "import pandas as pd\n",
        "import statsmodels.api as sm\n",
        "\n"
      ]
    },
    {
      "cell_type": "code",
      "execution_count": null,
      "metadata": {
        "colab": {
          "base_uri": "https://localhost:8080/",
          "height": 206
        },
        "id": "Z3LUtcxwZ7GQ",
        "outputId": "244ba214-a562-4663-8a5a-830dffcf2f39"
      },
      "outputs": [],
      "source": [
        "import pandas as pd\n",
        "df = pd.read_excel('Drug_Data.xlsx', sheet_name= 'Sheet1')\n",
        "display(df.head())"
      ]
    },
    {
      "cell_type": "code",
      "execution_count": 21,
      "metadata": {},
      "outputs": [],
      "source": [
        "clean_names = list()\n",
        "for field in df.columns:\n",
        "    clean_names.append(field.rstrip())\n",
        "\n",
        "df.columns = clean_names"
      ]
    },
    {
      "cell_type": "code",
      "execution_count": 22,
      "metadata": {},
      "outputs": [],
      "source": [
        "\n",
        "# Add a bias term (intercept) to the features\n",
        "df['Bias'] = 1\n",
        "\n",
        "# Define the feature matrix (X) and target variable (y)\n",
        "X = df[['Bias', 'Sex', 'Age_years', 'Diet', 'Smoking', 'treatment']]\n",
        "y = df[['Response_to_treatment']]\n"
      ]
    },
    {
      "cell_type": "code",
      "execution_count": 23,
      "metadata": {},
      "outputs": [
        {
          "name": "stdout",
          "output_type": "stream",
          "text": [
            "Optimization terminated successfully.\n",
            "         Current function value: 0.361172\n",
            "         Iterations 8\n"
          ]
        }
      ],
      "source": [
        "\n",
        "# Fit logistic regression model\n",
        "logit_model = sm.Logit(y, X)\n",
        "result = logit_model.fit()\n"
      ]
    },
    {
      "cell_type": "code",
      "execution_count": 24,
      "metadata": {},
      "outputs": [
        {
          "name": "stdout",
          "output_type": "stream",
          "text": [
            "                             Logit Regression Results                            \n",
            "=================================================================================\n",
            "Dep. Variable:     Response_to_treatment   No. Observations:                   30\n",
            "Model:                             Logit   Df Residuals:                       24\n",
            "Method:                              MLE   Df Model:                            5\n",
            "Date:                   Wed, 18 Oct 2023   Pseudo R-squ.:                  0.4722\n",
            "Time:                           10:29:02   Log-Likelihood:                -10.835\n",
            "converged:                          True   LL-Null:                       -20.527\n",
            "Covariance Type:               nonrobust   LLR p-value:                  0.001630\n",
            "==============================================================================\n",
            "                 coef    std err          z      P>|z|      [0.025      0.975]\n",
            "------------------------------------------------------------------------------\n",
            "Bias           2.9452      1.889      1.559      0.119      -0.757       6.647\n",
            "Sex            3.1735      1.566      2.026      0.043       0.104       6.243\n",
            "Age_years     -1.6794      1.287     -1.305      0.192      -4.201       0.842\n",
            "Diet          -1.8807      1.224     -1.536      0.124      -4.280       0.518\n",
            "Smoking       -3.4028      1.648     -2.065      0.039      -6.633      -0.173\n",
            "treatment     -0.7453      1.347     -0.554      0.580      -3.384       1.894\n",
            "==============================================================================\n",
            "Coefficients (Weights):\n",
            "Bias         2.945177\n",
            "Sex          3.173531\n",
            "Age_years   -1.679389\n",
            "Diet        -1.880708\n",
            "Smoking     -3.402845\n",
            "treatment   -0.745334\n",
            "dtype: float64\n",
            "Odds Ratios:\n",
            "Bias         19.014030\n",
            "Sex          23.891709\n",
            "Age_years     0.186488\n",
            "Diet          0.152482\n",
            "Smoking       0.033278\n",
            "treatment     0.474576\n",
            "dtype: float64\n",
            "Confidence Intervals for Odds Ratios (95%):\n",
            "              Lower       Upper\n",
            "Bias       0.469116  770.669630\n",
            "Sex        1.109696  514.387708\n",
            "Age_years  0.014981    2.321532\n",
            "Diet       0.013844    1.679519\n",
            "Smoking    0.001317    0.841055\n",
            "treatment  0.033894    6.644823\n"
          ]
        }
      ],
      "source": [
        "\n",
        "# Print model summary\n",
        "print(result.summary())\n",
        "\n",
        "\n",
        "coefficients = result.params\n",
        "print(\"Coefficients (Weights):\")\n",
        "print(coefficients)\n",
        "\n",
        "# Calculate odds ratios by exponentiating the coefficients\n",
        "odds_ratios = np.exp(coefficients)\n",
        "print(\"Odds Ratios:\")\n",
        "print(odds_ratios)\n",
        "\n",
        "# Calculate standard errors for coefficients\n",
        "std_errors = result.bse\n",
        "\n",
        "# Calculate confidence intervals for odds ratios\n",
        "# Lower bound = exp(coefficient - 1.96 * std_error)\n",
        "# Upper bound = exp(coefficient + 1.96 * std_error)\n",
        "conf_intervals = pd.DataFrame({'Lower': np.exp(coefficients - 1.96 * std_errors),\n",
        "                                'Upper': np.exp(coefficients + 1.96 * std_errors)},\n",
        "                               index=coefficients.index)\n",
        "print(\"Confidence Intervals for Odds Ratios (95%):\")\n",
        "print(conf_intervals)"
      ]
    },
    {
      "cell_type": "code",
      "execution_count": 25,
      "metadata": {},
      "outputs": [
        {
          "data": {
            "text/plain": [
              "treatment                int64\n",
              "Sex                      int64\n",
              "Age_years                int64\n",
              "Diet                     int64\n",
              "Smoking                  int64\n",
              "Response_to_treatment    int64\n",
              "Bias                     int64\n",
              "dtype: object"
            ]
          },
          "execution_count": 25,
          "metadata": {},
          "output_type": "execute_result"
        },
        {
          "ename": "",
          "evalue": "",
          "output_type": "error",
          "traceback": [
            "\u001b[1;31mThe Kernel crashed while executing code in the the current cell or a previous cell. Please review the code in the cell(s) to identify a possible cause of the failure. Click <a href='https://aka.ms/vscodeJupyterKernelCrash'>here</a> for more info. View Jupyter <a href='command:jupyter.viewOutput'>log</a> for further details."
          ]
        }
      ],
      "source": [
        "df.dtypes"
      ]
    },
    {
      "cell_type": "code",
      "execution_count": null,
      "metadata": {},
      "outputs": [],
      "source": [
        "result."
      ]
    }
  ],
  "metadata": {
    "colab": {
      "provenance": []
    },
    "kernelspec": {
      "display_name": "Python 3",
      "name": "python3"
    },
    "language_info": {
      "codemirror_mode": {
        "name": "ipython",
        "version": 3
      },
      "file_extension": ".py",
      "mimetype": "text/x-python",
      "name": "python",
      "nbconvert_exporter": "python",
      "pygments_lexer": "ipython3",
      "version": "3.11.5"
    }
  },
  "nbformat": 4,
  "nbformat_minor": 0
}
