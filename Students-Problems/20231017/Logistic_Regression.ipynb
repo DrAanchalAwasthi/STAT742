{
  "cells": [
    {
      "cell_type": "code",
      "execution_count": 2,
      "metadata": {
        "colab": {
          "base_uri": "https://localhost:8080/",
          "height": 408
        },
        "id": "0YL2QnVebYpc",
        "outputId": "f0d3293f-694b-4ba7-efa6-6d6baa91e541"
      },
      "outputs": [],
      "source": [
        "import numpy as np\n",
        "import pandas as pd\n",
        "import statsmodels.api as sm\n",
        "\n"
      ]
    },
    {
      "cell_type": "code",
      "execution_count": 1,
      "metadata": {
        "colab": {
          "base_uri": "https://localhost:8080/",
          "height": 206
        },
        "id": "Z3LUtcxwZ7GQ",
        "outputId": "244ba214-a562-4663-8a5a-830dffcf2f39"
      },
      "outputs": [
        {
          "data": {
            "text/html": [
              "<div>\n",
              "<style scoped>\n",
              "    .dataframe tbody tr th:only-of-type {\n",
              "        vertical-align: middle;\n",
              "    }\n",
              "\n",
              "    .dataframe tbody tr th {\n",
              "        vertical-align: top;\n",
              "    }\n",
              "\n",
              "    .dataframe thead th {\n",
              "        text-align: right;\n",
              "    }\n",
              "</style>\n",
              "<table border=\"1\" class=\"dataframe\">\n",
              "  <thead>\n",
              "    <tr style=\"text-align: right;\">\n",
              "      <th></th>\n",
              "      <th>treatment</th>\n",
              "      <th>Sex</th>\n",
              "      <th>Age_years</th>\n",
              "      <th>Diet</th>\n",
              "      <th>Smoking</th>\n",
              "      <th>Response_to_treatment</th>\n",
              "    </tr>\n",
              "  </thead>\n",
              "  <tbody>\n",
              "    <tr>\n",
              "      <th>0</th>\n",
              "      <td>0</td>\n",
              "      <td>1</td>\n",
              "      <td>1</td>\n",
              "      <td>1</td>\n",
              "      <td>1</td>\n",
              "      <td>0</td>\n",
              "    </tr>\n",
              "    <tr>\n",
              "      <th>1</th>\n",
              "      <td>0</td>\n",
              "      <td>0</td>\n",
              "      <td>1</td>\n",
              "      <td>0</td>\n",
              "      <td>1</td>\n",
              "      <td>0</td>\n",
              "    </tr>\n",
              "    <tr>\n",
              "      <th>2</th>\n",
              "      <td>0</td>\n",
              "      <td>0</td>\n",
              "      <td>1</td>\n",
              "      <td>1</td>\n",
              "      <td>1</td>\n",
              "      <td>0</td>\n",
              "    </tr>\n",
              "    <tr>\n",
              "      <th>3</th>\n",
              "      <td>0</td>\n",
              "      <td>0</td>\n",
              "      <td>1</td>\n",
              "      <td>1</td>\n",
              "      <td>1</td>\n",
              "      <td>0</td>\n",
              "    </tr>\n",
              "    <tr>\n",
              "      <th>4</th>\n",
              "      <td>0</td>\n",
              "      <td>0</td>\n",
              "      <td>0</td>\n",
              "      <td>0</td>\n",
              "      <td>0</td>\n",
              "      <td>1</td>\n",
              "    </tr>\n",
              "  </tbody>\n",
              "</table>\n",
              "</div>"
            ],
            "text/plain": [
              "   treatment   Sex  Age_years  Diet  Smoking  Response_to_treatment\n",
              "0           0    1          1     1        1                      0\n",
              "1           0    0          1     0        1                      0\n",
              "2           0    0          1     1        1                      0\n",
              "3           0    0          1     1        1                      0\n",
              "4           0    0          0     0        0                      1"
            ]
          },
          "metadata": {},
          "output_type": "display_data"
        }
      ],
      "source": [
        "import pandas as pd\n",
        "df = pd.read_excel('Drug_Data.xlsx', sheet_name= 'Sheet1')\n",
        "display(df.head())"
      ]
    },
    {
      "cell_type": "code",
      "execution_count": 5,
      "metadata": {},
      "outputs": [],
      "source": [
        "\n",
        "# Add a bias term (intercept) to the features\n",
        "df['Bias'] = 1\n",
        "\n",
        "# Define the feature matrix (X) and target variable (y)\n",
        "X = df[['Bias', 'Sex', 'Age_years', 'Diet', 'Smoking']]\n",
        "y = df[['Response_to_treatment']]\n"
      ]
    },
    {
      "cell_type": "code",
      "execution_count": 6,
      "metadata": {},
      "outputs": [
        {
          "name": "stdout",
          "output_type": "stream",
          "text": [
            "Optimization terminated successfully.\n",
            "         Current function value: 0.366465\n",
            "         Iterations 7\n"
          ]
        }
      ],
      "source": [
        "\n",
        "# Fit logistic regression model\n",
        "logit_model = sm.Logit(y, X)\n",
        "result = logit_model.fit()\n"
      ]
    },
    {
      "cell_type": "code",
      "execution_count": 7,
      "metadata": {},
      "outputs": [
        {
          "name": "stdout",
          "output_type": "stream",
          "text": [
            "                             Logit Regression Results                            \n",
            "=================================================================================\n",
            "Dep. Variable:     Response_to_treatment   No. Observations:                   30\n",
            "Model:                             Logit   Df Residuals:                       25\n",
            "Method:                              MLE   Df Model:                            4\n",
            "Date:                   Tue, 17 Oct 2023   Pseudo R-squ.:                  0.4644\n",
            "Time:                           13:43:26   Log-Likelihood:                -10.994\n",
            "converged:                          True   LL-Null:                       -20.527\n",
            "Covariance Type:               nonrobust   LLR p-value:                 0.0007628\n",
            "==============================================================================\n",
            "                 coef    std err          z      P>|z|      [0.025      0.975]\n",
            "------------------------------------------------------------------------------\n",
            "Bias           2.2108      1.231      1.796      0.072      -0.202       4.624\n",
            "Sex            2.8582      1.406      2.033      0.042       0.103       5.613\n",
            "Age_years     -1.3373      1.102     -1.214      0.225      -3.496       0.822\n",
            "Diet          -1.6492      1.126     -1.465      0.143      -3.856       0.557\n",
            "Smoking       -3.0138      1.418     -2.126      0.034      -5.793      -0.235\n",
            "==============================================================================\n",
            "Coefficients (Weights):\n",
            "Bias         2.210837\n",
            "Sex          2.858202\n",
            "Age_years   -1.337337\n",
            "Diet        -1.649230\n",
            "Smoking     -3.013812\n",
            "dtype: float64\n",
            "Odds Ratios:\n",
            "Bias          9.123351\n",
            "Sex          17.430163\n",
            "Age_years     0.262544\n",
            "Diet          0.192198\n",
            "Smoking       0.049104\n",
            "dtype: float64\n",
            "Confidence Intervals for Odds Ratios (95%):\n",
            "              Lower       Upper\n",
            "Bias       0.817189  101.855908\n",
            "Sex        1.108343  274.112406\n",
            "Age_years  0.030308    2.274305\n",
            "Diet       0.021157    1.745985\n",
            "Smoking    0.003049    0.790764\n"
          ]
        }
      ],
      "source": [
        "\n",
        "# Print model summary\n",
        "print(result.summary())\n",
        "\n",
        "\n",
        "coefficients = result.params\n",
        "print(\"Coefficients (Weights):\")\n",
        "print(coefficients)\n",
        "\n",
        "# Calculate odds ratios by exponentiating the coefficients\n",
        "odds_ratios = np.exp(coefficients)\n",
        "print(\"Odds Ratios:\")\n",
        "print(odds_ratios)\n",
        "\n",
        "# Calculate standard errors for coefficients\n",
        "std_errors = result.bse\n",
        "\n",
        "# Calculate confidence intervals for odds ratios\n",
        "# Lower bound = exp(coefficient - 1.96 * std_error)\n",
        "# Upper bound = exp(coefficient + 1.96 * std_error)\n",
        "conf_intervals = pd.DataFrame({'Lower': np.exp(coefficients - 1.96 * std_errors),\n",
        "                                'Upper': np.exp(coefficients + 1.96 * std_errors)},\n",
        "                               index=coefficients.index)\n",
        "print(\"Confidence Intervals for Odds Ratios (95%):\")\n",
        "print(conf_intervals)"
      ]
    }
  ],
  "metadata": {
    "colab": {
      "provenance": []
    },
    "kernelspec": {
      "display_name": "Python 3",
      "name": "python3"
    },
    "language_info": {
      "codemirror_mode": {
        "name": "ipython",
        "version": 3
      },
      "file_extension": ".py",
      "mimetype": "text/x-python",
      "name": "python",
      "nbconvert_exporter": "python",
      "pygments_lexer": "ipython3",
      "version": "3.11.5"
    }
  },
  "nbformat": 4,
  "nbformat_minor": 0
}
