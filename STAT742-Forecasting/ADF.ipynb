{
 "cells": [
  {
   "cell_type": "code",
   "execution_count": 2,
   "metadata": {},
   "outputs": [],
   "source": [
    "import pandas as pd\n"
   ]
  },
  {
   "cell_type": "code",
   "execution_count": 3,
   "metadata": {},
   "outputs": [],
   "source": [
    "# Sample time series data\n",
    "data = [10, 15, 20, 25, 30, 35, 40]\n",
    "\n",
    "# Create a pandas DataFrame from the data\n",
    "df = pd.DataFrame(data, columns=['Value'])\n"
   ]
  },
  {
   "cell_type": "code",
   "execution_count": 16,
   "metadata": {},
   "outputs": [],
   "source": [
    "def estimate_d(timeseries):\n",
    "    from statsmodels.tsa.stattools import adfuller\n",
    "    pval = 1\n",
    "    diff = 0\n",
    "    df = pd.DataFrame(timeseries, columns=['Value'])\n",
    "    while pval<=0.05:\n",
    "        print(pval)\n",
    "        if diff == 0:\n",
    "            results = adfuller(df['Value'])\n",
    "            adf_statistic, pval, _, _, critical_values, _ = result\n",
    "            if pval<=0.05:\n",
    "                break\n",
    "                display(adf_statistic, pval, diff)\n",
    "                return adf_statistic, pval, diff \n",
    "            else:\n",
    "                diff = diff + 1\n",
    "        elif diff == 1:\n",
    "            df['diff'+str(diff)] = df['Value'].diff()\n",
    "            results = adfuller(df['Value'])\n",
    "            adf_statistic, pval, _, _, critical_values, _ = result\n",
    "            if pval<=0.05:\n",
    "                break\n",
    "                display(adf_statistic, pval, diff)\n",
    "                return adf_statistic, pval, diff \n",
    "            else:\n",
    "                diff = diff + 1\n",
    "        elif diff > 1:\n",
    "            df['diff'+str(diff)] = df['diff'+str(diff-1)].diff()\n",
    "            results = adfuller(df['Value'])\n",
    "            adf_statistic, pval, _, _, critical_values, _ = result\n",
    "            if pval<=0.05:\n",
    "                break\n",
    "                display(adf_statistic, pval, diff)\n",
    "                return adf_statistic, pval, diff \n",
    "            else:\n",
    "                diff = diff + 1\n",
    "             \n",
    "\n",
    "\n"
   ]
  },
  {
   "cell_type": "code",
   "execution_count": 17,
   "metadata": {},
   "outputs": [
    {
     "ename": "TypeError",
     "evalue": "cannot unpack non-iterable NoneType object",
     "output_type": "error",
     "traceback": [
      "\u001b[1;31m---------------------------------------------------------------------------\u001b[0m",
      "\u001b[1;31mTypeError\u001b[0m                                 Traceback (most recent call last)",
      "\u001b[1;32mc:\\Users\\Restart\\Desktop\\Collaberation\\STAT742\\STAT742-Forecasting\\ADF.ipynb Cell 4\u001b[0m line \u001b[0;36m2\n\u001b[0;32m      <a href='vscode-notebook-cell:/c%3A/Users/Restart/Desktop/Collaberation/STAT742/STAT742-Forecasting/ADF.ipynb#W3sZmlsZQ%3D%3D?line=0'>1</a>\u001b[0m data \u001b[39m=\u001b[39m [\u001b[39m1\u001b[39m, \u001b[39m3\u001b[39m, \u001b[39m2\u001b[39m, \u001b[39m4\u001b[39m, \u001b[39m6\u001b[39m, \u001b[39m4\u001b[39m, \u001b[39m1\u001b[39m, \u001b[39m3\u001b[39m, \u001b[39m5\u001b[39m, \u001b[39m7\u001b[39m, \u001b[39m8\u001b[39m]\n\u001b[1;32m----> <a href='vscode-notebook-cell:/c%3A/Users/Restart/Desktop/Collaberation/STAT742/STAT742-Forecasting/ADF.ipynb#W3sZmlsZQ%3D%3D?line=1'>2</a>\u001b[0m a, b, c \u001b[39m=\u001b[39m estimate_d(data)\n",
      "\u001b[1;31mTypeError\u001b[0m: cannot unpack non-iterable NoneType object"
     ]
    }
   ],
   "source": [
    "data = [1, 3, 2, 4, 6, 4, 1, 3, 5, 7, 8]\n",
    "a, b, c = estimate_d(data)"
   ]
  },
  {
   "cell_type": "code",
   "execution_count": null,
   "metadata": {},
   "outputs": [],
   "source": []
  }
 ],
 "metadata": {
  "kernelspec": {
   "display_name": "base",
   "language": "python",
   "name": "python3"
  },
  "language_info": {
   "codemirror_mode": {
    "name": "ipython",
    "version": 3
   },
   "file_extension": ".py",
   "mimetype": "text/x-python",
   "name": "python",
   "nbconvert_exporter": "python",
   "pygments_lexer": "ipython3",
   "version": "3.11.5"
  }
 },
 "nbformat": 4,
 "nbformat_minor": 2
}
